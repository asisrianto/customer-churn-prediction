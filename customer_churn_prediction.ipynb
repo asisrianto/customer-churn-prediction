{
  "nbformat": 4,
  "nbformat_minor": 0,
  "metadata": {
    "colab": {
      "provenance": []
    },
    "kernelspec": {
      "name": "python3",
      "display_name": "Python 3"
    },
    "language_info": {
      "name": "python"
    }
  },
  "cells": [
    {
      "cell_type": "markdown",
      "source": [
        "# **Data Science in Marketing: Customer Churn Prediction**"
      ],
      "metadata": {
        "id": "UCRk_uX5bt7M"
      }
    },
    {
      "cell_type": "markdown",
      "source": [
        "## Libraries"
      ],
      "metadata": {
        "id": "_N6eqU8Ub3dX"
      }
    },
    {
      "cell_type": "code",
      "source": [
        "import pandas as pd\n",
        "import numpy as np\n",
        "import matplotlib.pyplot as plt\n",
        "import seaborn as sns\n",
        "from sklearn.preprocessing import LabelEncoder\n",
        "from sklearn.model_selection import train_test_split\n",
        "from sklearn.linear_model import LogisticRegression\n",
        "from sklearn.metrics import confusion_matrix, classification_report\n",
        "import pickle"
      ],
      "metadata": {
        "id": "OdfYpW5YcT8B"
      },
      "execution_count": 1,
      "outputs": []
    },
    {
      "cell_type": "markdown",
      "source": [
        "## Data Preparation"
      ],
      "metadata": {
        "id": "W81ZgwEPcI1w"
      }
    },
    {
      "cell_type": "markdown",
      "source": [
        "Load the dataset"
      ],
      "metadata": {
        "id": "Oum2HMzX0oaC"
      }
    },
    {
      "cell_type": "code",
      "source": [
        "url = 'https://storage.googleapis.com/dqlab-dataset/dqlab_telco_final.csv'\n",
        "df = pd.read_csv(url)"
      ],
      "metadata": {
        "id": "cNc74NIscU5d"
      },
      "execution_count": 2,
      "outputs": []
    },
    {
      "cell_type": "code",
      "source": [
        "df.info()"
      ],
      "metadata": {
        "colab": {
          "base_uri": "https://localhost:8080/"
        },
        "id": "dj7-8p43fK8g",
        "outputId": "edccd3ab-3b95-4a2d-86bf-405a17d17086"
      },
      "execution_count": 3,
      "outputs": [
        {
          "output_type": "stream",
          "name": "stdout",
          "text": [
            "<class 'pandas.core.frame.DataFrame'>\n",
            "RangeIndex: 6950 entries, 0 to 6949\n",
            "Data columns (total 13 columns):\n",
            " #   Column            Non-Null Count  Dtype  \n",
            "---  ------            --------------  -----  \n",
            " 0   UpdatedAt         6950 non-null   int64  \n",
            " 1   customerID        6950 non-null   int64  \n",
            " 2   gender            6950 non-null   object \n",
            " 3   SeniorCitizen     6950 non-null   object \n",
            " 4   Partner           6950 non-null   object \n",
            " 5   tenure            6950 non-null   int64  \n",
            " 6   PhoneService      6950 non-null   object \n",
            " 7   StreamingTV       6950 non-null   object \n",
            " 8   InternetService   6950 non-null   object \n",
            " 9   PaperlessBilling  6950 non-null   object \n",
            " 10  MonthlyCharges    6950 non-null   float64\n",
            " 11  TotalCharges      6950 non-null   float64\n",
            " 12  Churn             6950 non-null   object \n",
            "dtypes: float64(2), int64(3), object(8)\n",
            "memory usage: 706.0+ KB\n"
          ]
        }
      ]
    },
    {
      "cell_type": "code",
      "source": [
        "df.shape"
      ],
      "metadata": {
        "colab": {
          "base_uri": "https://localhost:8080/"
        },
        "id": "djQloakNgDkj",
        "outputId": "82bd8f1b-76e0-4728-b772-b49390bbe223"
      },
      "execution_count": 4,
      "outputs": [
        {
          "output_type": "execute_result",
          "data": {
            "text/plain": [
              "(6950, 13)"
            ]
          },
          "metadata": {},
          "execution_count": 4
        }
      ]
    },
    {
      "cell_type": "code",
      "source": [
        "df.head()"
      ],
      "metadata": {
        "colab": {
          "base_uri": "https://localhost:8080/",
          "height": 270
        },
        "id": "qejvo4EwgGJs",
        "outputId": "c2282302-9805-487f-ba98-e44e57727868"
      },
      "execution_count": 5,
      "outputs": [
        {
          "output_type": "execute_result",
          "data": {
            "text/plain": [
              "   UpdatedAt   customerID  gender SeniorCitizen Partner  tenure PhoneService  \\\n",
              "0     202006  45759018157  Female            No     Yes       1           No   \n",
              "1     202006  45315483266    Male            No     Yes      60          Yes   \n",
              "2     202006  45236961615    Male            No      No       5          Yes   \n",
              "3     202006  45929827382  Female            No     Yes      72          Yes   \n",
              "4     202006  45305082233  Female            No     Yes      56          Yes   \n",
              "\n",
              "  StreamingTV InternetService PaperlessBilling  MonthlyCharges  TotalCharges  \\\n",
              "0          No             Yes              Yes           29.85         29.85   \n",
              "1          No              No              Yes           20.50       1198.80   \n",
              "2         Yes             Yes               No          104.10        541.90   \n",
              "3         Yes             Yes              Yes          115.50       8312.75   \n",
              "4         Yes             Yes               No           81.25       4620.40   \n",
              "\n",
              "  Churn  \n",
              "0    No  \n",
              "1    No  \n",
              "2   Yes  \n",
              "3    No  \n",
              "4    No  "
            ],
            "text/html": [
              "\n",
              "  <div id=\"df-9a1ca3ac-9efc-4c4f-9782-3cd37763d1c6\">\n",
              "    <div class=\"colab-df-container\">\n",
              "      <div>\n",
              "<style scoped>\n",
              "    .dataframe tbody tr th:only-of-type {\n",
              "        vertical-align: middle;\n",
              "    }\n",
              "\n",
              "    .dataframe tbody tr th {\n",
              "        vertical-align: top;\n",
              "    }\n",
              "\n",
              "    .dataframe thead th {\n",
              "        text-align: right;\n",
              "    }\n",
              "</style>\n",
              "<table border=\"1\" class=\"dataframe\">\n",
              "  <thead>\n",
              "    <tr style=\"text-align: right;\">\n",
              "      <th></th>\n",
              "      <th>UpdatedAt</th>\n",
              "      <th>customerID</th>\n",
              "      <th>gender</th>\n",
              "      <th>SeniorCitizen</th>\n",
              "      <th>Partner</th>\n",
              "      <th>tenure</th>\n",
              "      <th>PhoneService</th>\n",
              "      <th>StreamingTV</th>\n",
              "      <th>InternetService</th>\n",
              "      <th>PaperlessBilling</th>\n",
              "      <th>MonthlyCharges</th>\n",
              "      <th>TotalCharges</th>\n",
              "      <th>Churn</th>\n",
              "    </tr>\n",
              "  </thead>\n",
              "  <tbody>\n",
              "    <tr>\n",
              "      <th>0</th>\n",
              "      <td>202006</td>\n",
              "      <td>45759018157</td>\n",
              "      <td>Female</td>\n",
              "      <td>No</td>\n",
              "      <td>Yes</td>\n",
              "      <td>1</td>\n",
              "      <td>No</td>\n",
              "      <td>No</td>\n",
              "      <td>Yes</td>\n",
              "      <td>Yes</td>\n",
              "      <td>29.85</td>\n",
              "      <td>29.85</td>\n",
              "      <td>No</td>\n",
              "    </tr>\n",
              "    <tr>\n",
              "      <th>1</th>\n",
              "      <td>202006</td>\n",
              "      <td>45315483266</td>\n",
              "      <td>Male</td>\n",
              "      <td>No</td>\n",
              "      <td>Yes</td>\n",
              "      <td>60</td>\n",
              "      <td>Yes</td>\n",
              "      <td>No</td>\n",
              "      <td>No</td>\n",
              "      <td>Yes</td>\n",
              "      <td>20.50</td>\n",
              "      <td>1198.80</td>\n",
              "      <td>No</td>\n",
              "    </tr>\n",
              "    <tr>\n",
              "      <th>2</th>\n",
              "      <td>202006</td>\n",
              "      <td>45236961615</td>\n",
              "      <td>Male</td>\n",
              "      <td>No</td>\n",
              "      <td>No</td>\n",
              "      <td>5</td>\n",
              "      <td>Yes</td>\n",
              "      <td>Yes</td>\n",
              "      <td>Yes</td>\n",
              "      <td>No</td>\n",
              "      <td>104.10</td>\n",
              "      <td>541.90</td>\n",
              "      <td>Yes</td>\n",
              "    </tr>\n",
              "    <tr>\n",
              "      <th>3</th>\n",
              "      <td>202006</td>\n",
              "      <td>45929827382</td>\n",
              "      <td>Female</td>\n",
              "      <td>No</td>\n",
              "      <td>Yes</td>\n",
              "      <td>72</td>\n",
              "      <td>Yes</td>\n",
              "      <td>Yes</td>\n",
              "      <td>Yes</td>\n",
              "      <td>Yes</td>\n",
              "      <td>115.50</td>\n",
              "      <td>8312.75</td>\n",
              "      <td>No</td>\n",
              "    </tr>\n",
              "    <tr>\n",
              "      <th>4</th>\n",
              "      <td>202006</td>\n",
              "      <td>45305082233</td>\n",
              "      <td>Female</td>\n",
              "      <td>No</td>\n",
              "      <td>Yes</td>\n",
              "      <td>56</td>\n",
              "      <td>Yes</td>\n",
              "      <td>Yes</td>\n",
              "      <td>Yes</td>\n",
              "      <td>No</td>\n",
              "      <td>81.25</td>\n",
              "      <td>4620.40</td>\n",
              "      <td>No</td>\n",
              "    </tr>\n",
              "  </tbody>\n",
              "</table>\n",
              "</div>\n",
              "      <button class=\"colab-df-convert\" onclick=\"convertToInteractive('df-9a1ca3ac-9efc-4c4f-9782-3cd37763d1c6')\"\n",
              "              title=\"Convert this dataframe to an interactive table.\"\n",
              "              style=\"display:none;\">\n",
              "        \n",
              "  <svg xmlns=\"http://www.w3.org/2000/svg\" height=\"24px\"viewBox=\"0 0 24 24\"\n",
              "       width=\"24px\">\n",
              "    <path d=\"M0 0h24v24H0V0z\" fill=\"none\"/>\n",
              "    <path d=\"M18.56 5.44l.94 2.06.94-2.06 2.06-.94-2.06-.94-.94-2.06-.94 2.06-2.06.94zm-11 1L8.5 8.5l.94-2.06 2.06-.94-2.06-.94L8.5 2.5l-.94 2.06-2.06.94zm10 10l.94 2.06.94-2.06 2.06-.94-2.06-.94-.94-2.06-.94 2.06-2.06.94z\"/><path d=\"M17.41 7.96l-1.37-1.37c-.4-.4-.92-.59-1.43-.59-.52 0-1.04.2-1.43.59L10.3 9.45l-7.72 7.72c-.78.78-.78 2.05 0 2.83L4 21.41c.39.39.9.59 1.41.59.51 0 1.02-.2 1.41-.59l7.78-7.78 2.81-2.81c.8-.78.8-2.07 0-2.86zM5.41 20L4 18.59l7.72-7.72 1.47 1.35L5.41 20z\"/>\n",
              "  </svg>\n",
              "      </button>\n",
              "      \n",
              "  <style>\n",
              "    .colab-df-container {\n",
              "      display:flex;\n",
              "      flex-wrap:wrap;\n",
              "      gap: 12px;\n",
              "    }\n",
              "\n",
              "    .colab-df-convert {\n",
              "      background-color: #E8F0FE;\n",
              "      border: none;\n",
              "      border-radius: 50%;\n",
              "      cursor: pointer;\n",
              "      display: none;\n",
              "      fill: #1967D2;\n",
              "      height: 32px;\n",
              "      padding: 0 0 0 0;\n",
              "      width: 32px;\n",
              "    }\n",
              "\n",
              "    .colab-df-convert:hover {\n",
              "      background-color: #E2EBFA;\n",
              "      box-shadow: 0px 1px 2px rgba(60, 64, 67, 0.3), 0px 1px 3px 1px rgba(60, 64, 67, 0.15);\n",
              "      fill: #174EA6;\n",
              "    }\n",
              "\n",
              "    [theme=dark] .colab-df-convert {\n",
              "      background-color: #3B4455;\n",
              "      fill: #D2E3FC;\n",
              "    }\n",
              "\n",
              "    [theme=dark] .colab-df-convert:hover {\n",
              "      background-color: #434B5C;\n",
              "      box-shadow: 0px 1px 3px 1px rgba(0, 0, 0, 0.15);\n",
              "      filter: drop-shadow(0px 1px 2px rgba(0, 0, 0, 0.3));\n",
              "      fill: #FFFFFF;\n",
              "    }\n",
              "  </style>\n",
              "\n",
              "      <script>\n",
              "        const buttonEl =\n",
              "          document.querySelector('#df-9a1ca3ac-9efc-4c4f-9782-3cd37763d1c6 button.colab-df-convert');\n",
              "        buttonEl.style.display =\n",
              "          google.colab.kernel.accessAllowed ? 'block' : 'none';\n",
              "\n",
              "        async function convertToInteractive(key) {\n",
              "          const element = document.querySelector('#df-9a1ca3ac-9efc-4c4f-9782-3cd37763d1c6');\n",
              "          const dataTable =\n",
              "            await google.colab.kernel.invokeFunction('convertToInteractive',\n",
              "                                                     [key], {});\n",
              "          if (!dataTable) return;\n",
              "\n",
              "          const docLinkHtml = 'Like what you see? Visit the ' +\n",
              "            '<a target=\"_blank\" href=https://colab.research.google.com/notebooks/data_table.ipynb>data table notebook</a>'\n",
              "            + ' to learn more about interactive tables.';\n",
              "          element.innerHTML = '';\n",
              "          dataTable['output_type'] = 'display_data';\n",
              "          await google.colab.output.renderOutput(dataTable, element);\n",
              "          const docLink = document.createElement('div');\n",
              "          docLink.innerHTML = docLinkHtml;\n",
              "          element.appendChild(docLink);\n",
              "        }\n",
              "      </script>\n",
              "    </div>\n",
              "  </div>\n",
              "  "
            ]
          },
          "metadata": {},
          "execution_count": 5
        }
      ]
    },
    {
      "cell_type": "code",
      "source": [
        "df.customerID.nunique()"
      ],
      "metadata": {
        "colab": {
          "base_uri": "https://localhost:8080/"
        },
        "id": "2xg9QFeEgIps",
        "outputId": "e163e466-e15b-4844-cb65-2c013ab171a4"
      },
      "execution_count": 6,
      "outputs": [
        {
          "output_type": "execute_result",
          "data": {
            "text/plain": [
              "6950"
            ]
          },
          "metadata": {},
          "execution_count": 6
        }
      ]
    },
    {
      "cell_type": "markdown",
      "source": [
        "## Exploratory Data Analysis"
      ],
      "metadata": {
        "id": "tsqIZedKcmPV"
      }
    },
    {
      "cell_type": "markdown",
      "source": [
        "Visualize the churn percentage"
      ],
      "metadata": {
        "id": "jrBLe7jX0rPs"
      }
    },
    {
      "cell_type": "code",
      "source": [
        "fig = plt.figure()\n",
        "ax = fig.add_axes([0,0,1,1])\n",
        "ax.axis('equal')\n",
        "labels = ['No', 'Yes']\n",
        "churn = df.Churn.value_counts()\n",
        "ax.pie(churn, labels=labels, autopct='%.0f%%')\n",
        "plt.savefig('churn percentage.png')\n",
        "plt.show()"
      ],
      "metadata": {
        "colab": {
          "base_uri": "https://localhost:8080/",
          "height": 319
        },
        "id": "a4KBlO0Ggqxg",
        "outputId": "b1d49f0e-9366-4ad6-926b-907d256520c1"
      },
      "execution_count": 7,
      "outputs": [
        {
          "output_type": "display_data",
          "data": {
            "text/plain": [
              "<Figure size 432x288 with 1 Axes>"
            ],
            "image/png": "[encoded data removed]"
          },
          "metadata": {}
        }
      ]
    },
    {
      "cell_type": "markdown",
      "source": [
        "Numerical"
      ],
      "metadata": {
        "id": "UJIfyumi0v98"
      }
    },
    {
      "cell_type": "code",
      "source": [
        "numerical_features = ['MonthlyCharges', 'TotalCharges', 'tenure']\n",
        "fig, ax = plt.subplots(1, 3, figsize=(15, 6))\n",
        "df[df.Churn == 'No'][numerical_features].hist(bins=20, color='blue', alpha=0.5, ax=ax)\n",
        "df[df.Churn == 'Yes'][numerical_features].hist(bins=20, color='orange', alpha=0.5, ax=ax)\n",
        "plt.savefig('numerical.png')\n",
        "plt.show()"
      ],
      "metadata": {
        "colab": {
          "base_uri": "https://localhost:8080/",
          "height": 282
        },
        "id": "ojZmxnpYhihW",
        "outputId": "315c18ab-f167-401a-9aa8-367598879a91"
      },
      "execution_count": 8,
      "outputs": [
        {
          "output_type": "display_data",
          "data": {
            "text/plain": [
              "<Figure size 1080x432 with 3 Axes>"
            ],
            "image/png": "[encoded data removed]"
          },
          "metadata": {
            "needs_background": "light"
          }
        }
      ]
    },
    {
      "cell_type": "markdown",
      "source": [
        "Categorical"
      ],
      "metadata": {
        "id": "caMuWOVc0y1G"
      }
    },
    {
      "cell_type": "code",
      "source": [
        "fix, ax = plt.subplots(3,3, figsize=(14, 12))\n",
        "sns.countplot(data=df, x='gender', hue='Churn', ax=ax[0][0])\n",
        "sns.countplot(data=df, x='Partner', hue='Churn', ax=ax[0][1])\n",
        "sns.countplot(data=df, x='SeniorCitizen', hue='Churn', ax=ax[0][2])\n",
        "sns.countplot(data=df, x='PhoneService', hue='Churn', ax=ax[1][0])\n",
        "sns.countplot(data=df, x='StreamingTV', hue='Churn', ax=ax[1][1])\n",
        "sns.countplot(data=df, x='InternetService', hue='Churn', ax=ax[1][2])\n",
        "sns.countplot(data=df, x='PaperlessBilling', hue='Churn', ax=ax[2][1])\n",
        "plt.tight_layout()\n",
        "plt.savefig('categorial.png')\n",
        "plt.show()"
      ],
      "metadata": {
        "colab": {
          "base_uri": "https://localhost:8080/",
          "height": 555
        },
        "id": "w-bPXAQFi2yo",
        "outputId": "2939a6d5-744a-494b-c1a2-15aa4ba2f396"
      },
      "execution_count": 9,
      "outputs": [
        {
          "output_type": "display_data",
          "data": {
            "text/plain": [
              "<Figure size 1008x864 with 9 Axes>"
            ],
            "image/png": "[encoded data removed]"
          },
          "metadata": {
            "needs_background": "light"
          }
        }
      ]
    },
    {
      "cell_type": "markdown",
      "source": [
        "## Data Preprocessing"
      ],
      "metadata": {
        "id": "OcL97yjyi257"
      }
    },
    {
      "cell_type": "code",
      "source": [
        "cleaned_df = df.drop(['customerID', 'UpdatedAt'], axis=1)\n",
        "print(cleaned_df.head())"
      ],
      "metadata": {
        "colab": {
          "base_uri": "https://localhost:8080/"
        },
        "id": "SXPINyzzxl6T",
        "outputId": "81f0f5bf-d631-41cc-a5f1-6b3d2a4fcc51"
      },
      "execution_count": 10,
      "outputs": [
        {
          "output_type": "stream",
          "name": "stdout",
          "text": [
            "   gender SeniorCitizen Partner  tenure PhoneService StreamingTV  \\\n",
            "0  Female            No     Yes       1           No          No   \n",
            "1    Male            No     Yes      60          Yes          No   \n",
            "2    Male            No      No       5          Yes         Yes   \n",
            "3  Female            No     Yes      72          Yes         Yes   \n",
            "4  Female            No     Yes      56          Yes         Yes   \n",
            "\n",
            "  InternetService PaperlessBilling  MonthlyCharges  TotalCharges Churn  \n",
            "0             Yes              Yes           29.85         29.85    No  \n",
            "1              No              Yes           20.50       1198.80    No  \n",
            "2             Yes               No          104.10        541.90   Yes  \n",
            "3             Yes              Yes          115.50       8312.75    No  \n",
            "4             Yes               No           81.25       4620.40    No  \n"
          ]
        }
      ]
    },
    {
      "cell_type": "markdown",
      "source": [
        "Encoding"
      ],
      "metadata": {
        "id": "hn4NGews0mA8"
      }
    },
    {
      "cell_type": "code",
      "source": [
        "for column in cleaned_df.columns:\n",
        "  if cleaned_df[column].dtype == np.float64 or cleaned_df[column].dtype == np.int64: continue\n",
        "  cleaned_df[column] = LabelEncoder().fit_transform(cleaned_df[column])\n",
        "print(cleaned_df.describe())"
      ],
      "metadata": {
        "colab": {
          "base_uri": "https://localhost:8080/"
        },
        "id": "fTLLv758xwFR",
        "outputId": "19888377-097f-4eb0-bb96-9ebd5384483e"
      },
      "execution_count": 11,
      "outputs": [
        {
          "output_type": "stream",
          "name": "stdout",
          "text": [
            "            gender  SeniorCitizen      Partner       tenure  PhoneService  \\\n",
            "count  6950.000000    6950.000000  6950.000000  6950.000000   6950.000000   \n",
            "mean      0.504317       0.162302     0.483309    32.423165      0.903741   \n",
            "std       0.500017       0.368754     0.499757    24.581073      0.294967   \n",
            "min       0.000000       0.000000     0.000000     0.000000      0.000000   \n",
            "25%       0.000000       0.000000     0.000000     9.000000      1.000000   \n",
            "50%       1.000000       0.000000     0.000000    29.000000      1.000000   \n",
            "75%       1.000000       0.000000     1.000000    55.000000      1.000000   \n",
            "max       1.000000       1.000000     1.000000   124.000000      1.000000   \n",
            "\n",
            "       StreamingTV  InternetService  PaperlessBilling  MonthlyCharges  \\\n",
            "count  6950.000000      6950.000000       6950.000000     6950.000000   \n",
            "mean      0.384317         0.783453          0.591942       64.992201   \n",
            "std       0.486468         0.411921          0.491509       30.032040   \n",
            "min       0.000000         0.000000          0.000000        0.000000   \n",
            "25%       0.000000         1.000000          0.000000       36.462500   \n",
            "50%       0.000000         1.000000          1.000000       70.450000   \n",
            "75%       1.000000         1.000000          1.000000       89.850000   \n",
            "max       1.000000         1.000000          1.000000      169.931250   \n",
            "\n",
            "       TotalCharges        Churn  \n",
            "count   6950.000000  6950.000000  \n",
            "mean    2286.058750     0.264173  \n",
            "std     2265.702553     0.440923  \n",
            "min       19.000000     0.000000  \n",
            "25%      406.975000     0.000000  \n",
            "50%     1400.850000     0.000000  \n",
            "75%     3799.837500     1.000000  \n",
            "max     8889.131250     1.000000  \n"
          ]
        }
      ]
    },
    {
      "cell_type": "markdown",
      "source": [
        "Splitting the dataset"
      ],
      "metadata": {
        "id": "-Fmw7l4j0iB5"
      }
    },
    {
      "cell_type": "code",
      "source": [
        "X = cleaned_df.drop('Churn', axis=1)\n",
        "y = cleaned_df['Churn']\n",
        "X_train, X_test, y_train, y_test = train_test_split(X, y, test_size=0.3, random_state=42)\n",
        "print('X_train shape: ', X_train.shape, ', y_train shape: ', y_train.shape)\n",
        "print('Churn percentage in training data: ')\n",
        "print(y_train.value_counts(normalize=True))\n",
        "print('X_test shape: ', X_test.shape, ' ,y_test shape: ', y_test.shape)\n",
        "print('Churn percentage in testing data: ')\n",
        "print(y_test.value_counts(normalize=True))"
      ],
      "metadata": {
        "colab": {
          "base_uri": "https://localhost:8080/"
        },
        "id": "ObLL3qDMzJ8h",
        "outputId": "c800dbce-9080-4f14-afbc-9871e968a950"
      },
      "execution_count": 12,
      "outputs": [
        {
          "output_type": "stream",
          "name": "stdout",
          "text": [
            "X_train shape:  (4865, 10) , y_train shape:  (4865,)\n",
            "Churn percentage in training data: \n",
            "0    0.734841\n",
            "1    0.265159\n",
            "Name: Churn, dtype: float64\n",
            "X_test shape:  (2085, 10)  ,y_test shape:  (2085,)\n",
            "Churn percentage in testing data: \n",
            "0    0.738129\n",
            "1    0.261871\n",
            "Name: Churn, dtype: float64\n"
          ]
        }
      ]
    },
    {
      "cell_type": "markdown",
      "source": [
        "## Model Selection"
      ],
      "metadata": {
        "id": "xfuk5BqI22wY"
      }
    },
    {
      "cell_type": "markdown",
      "source": [
        "Logistic Regression"
      ],
      "metadata": {
        "id": "k3--MMk_25Qq"
      }
    },
    {
      "cell_type": "code",
      "source": [
        "log_model = LogisticRegression().fit(X_train, y_train)\n",
        "print(log_model)"
      ],
      "metadata": {
        "colab": {
          "base_uri": "https://localhost:8080/"
        },
        "id": "N_mEZ6mT29eO",
        "outputId": "eb6d0e93-369b-41d0-cebe-6671dfa0ca76"
      },
      "execution_count": 13,
      "outputs": [
        {
          "output_type": "stream",
          "name": "stdout",
          "text": [
            "LogisticRegression()\n"
          ]
        },
        {
          "output_type": "stream",
          "name": "stderr",
          "text": [
            "/usr/local/lib/python3.8/dist-packages/sklearn/linear_model/_logistic.py:814: ConvergenceWarning: lbfgs failed to converge (status=1):\n",
            "STOP: TOTAL NO. of ITERATIONS REACHED LIMIT.\n",
            "\n",
            "Increase the number of iterations (max_iter) or scale the data as shown in:\n",
            "    https://scikit-learn.org/stable/modules/preprocessing.html\n",
            "Please also refer to the documentation for alternative solver options:\n",
            "    https://scikit-learn.org/stable/modules/linear_model.html#logistic-regression\n",
            "  n_iter_i = _check_optimize_result(\n"
          ]
        }
      ]
    },
    {
      "cell_type": "markdown",
      "source": [
        "Performance of training data (metrics)"
      ],
      "metadata": {
        "id": "2BPuYS393Juh"
      }
    },
    {
      "cell_type": "code",
      "source": [
        "y_train_pred = log_model.predict(X_train)\n",
        "print('Classification Report Training Model (Logistic Regression): ')\n",
        "print(classification_report(y_train, y_train_pred))"
      ],
      "metadata": {
        "colab": {
          "base_uri": "https://localhost:8080/"
        },
        "id": "b899_rqK2Ahu",
        "outputId": "43779496-0c78-414a-f86d-223c845f5bea"
      },
      "execution_count": 14,
      "outputs": [
        {
          "output_type": "stream",
          "name": "stdout",
          "text": [
            "Classification Report Training Model (Logistic Regression): \n",
            "              precision    recall  f1-score   support\n",
            "\n",
            "           0       0.83      0.90      0.87      3575\n",
            "           1       0.65      0.49      0.56      1290\n",
            "\n",
            "    accuracy                           0.80      4865\n",
            "   macro avg       0.74      0.70      0.71      4865\n",
            "weighted avg       0.78      0.80      0.79      4865\n",
            "\n"
          ]
        }
      ]
    },
    {
      "cell_type": "markdown",
      "source": [
        "Performance of training data (plots)"
      ],
      "metadata": {
        "id": "5-J08bzs3l2b"
      }
    },
    {
      "cell_type": "code",
      "source": [
        "confusion_matrix_df = pd.DataFrame((confusion_matrix(y_train, y_train_pred)), ('No Churn', 'Churn'), ('No Churn', 'Churn'))\n",
        "\n",
        "plt.figure()\n",
        "heatmap = sns.heatmap(confusion_matrix_df, annot=True, annot_kws={'size':14}, fmt='d', cmap='YlGnBu')\n",
        "heatmap.yaxis.set_ticklabels(heatmap.yaxis.get_ticklabels(), rotation=0, ha='right', fontsize=14)\n",
        "heatmap.xaxis.set_ticklabels(heatmap.yaxis.get_ticklabels(), rotation=0, ha='right', fontsize=14)\n",
        "\n",
        "plt.title('Confusion Matrix for Training Model\\n (Logistic Regression)', fontsize=18, color='darkblue')\n",
        "plt.ylabel('True Label', fontsize=14)\n",
        "plt.xlabel('Predicted Label', fontsize=14)\n",
        "plt.tight_layout()\n",
        "plt.savefig('performance of training data.png')\n",
        "plt.show()"
      ],
      "metadata": {
        "colab": {
          "base_uri": "https://localhost:8080/",
          "height": 297
        },
        "id": "MQaSRgC03e_7",
        "outputId": "8c07c332-6245-453b-8a59-239b8ad75e0c"
      },
      "execution_count": 15,
      "outputs": [
        {
          "output_type": "display_data",
          "data": {
            "text/plain": [
              "<Figure size 432x288 with 2 Axes>"
            ],
            "image/png": "[encoded data removed]"
          },
          "metadata": {
            "needs_background": "light"
          }
        }
      ]
    },
    {
      "cell_type": "markdown",
      "source": [
        "Performance of test data (metrics)"
      ],
      "metadata": {
        "id": "akYStq995HM2"
      }
    },
    {
      "cell_type": "code",
      "source": [
        "y_test_pred = log_model.predict(X_test)\n",
        "print('Classification Report Training Model (Logistic Regression): ')\n",
        "print(classification_report(y_test, y_test_pred))"
      ],
      "metadata": {
        "colab": {
          "base_uri": "https://localhost:8080/"
        },
        "id": "gL2Z1h4x5J3g",
        "outputId": "b13ae355-f69a-4e2a-8aab-008bac0d5bda"
      },
      "execution_count": 16,
      "outputs": [
        {
          "output_type": "stream",
          "name": "stdout",
          "text": [
            "Classification Report Training Model (Logistic Regression): \n",
            "              precision    recall  f1-score   support\n",
            "\n",
            "           0       0.83      0.90      0.87      1539\n",
            "           1       0.64      0.48      0.55       546\n",
            "\n",
            "    accuracy                           0.79      2085\n",
            "   macro avg       0.73      0.69      0.71      2085\n",
            "weighted avg       0.78      0.79      0.78      2085\n",
            "\n"
          ]
        }
      ]
    },
    {
      "cell_type": "markdown",
      "source": [
        "Performance of test data (plots)"
      ],
      "metadata": {
        "id": "2c1ZWikO5KAe"
      }
    },
    {
      "cell_type": "code",
      "source": [
        "confusion_matrix_df = pd.DataFrame((confusion_matrix(y_test, y_test_pred)), ('No Churn', 'Churn'), ('No Churn', 'Churn'))\n",
        "\n",
        "plt.figure()\n",
        "heatmap = sns.heatmap(confusion_matrix_df, annot=True, annot_kws={'size':14}, fmt='d', cmap='YlGnBu')\n",
        "heatmap.yaxis.set_ticklabels(heatmap.yaxis.get_ticklabels(), rotation=0, ha='right', fontsize=14)\n",
        "heatmap.xaxis.set_ticklabels(heatmap.yaxis.get_ticklabels(), rotation=0, ha='right', fontsize=14)\n",
        "\n",
        "plt.title('Confusion Matrix for Training Model\\n (Logistic Regression)', fontsize=18, color='darkblue')\n",
        "plt.ylabel('True Label', fontsize=14)\n",
        "plt.xlabel('Predicted Label', fontsize=14)\n",
        "plt.tight_layout()\n",
        "plt.savefig('performance of test data.png')\n",
        "plt.show()"
      ],
      "metadata": {
        "colab": {
          "base_uri": "https://localhost:8080/",
          "height": 297
        },
        "id": "Py-DAnmN5NZr",
        "outputId": "947aaf8a-8f5d-4298-9fa2-77c496dd6cae"
      },
      "execution_count": 17,
      "outputs": [
        {
          "output_type": "display_data",
          "data": {
            "text/plain": [
              "<Figure size 432x288 with 2 Axes>"
            ],
            "image/png": "[encoded data removed]"
          },
          "metadata": {
            "needs_background": "light"
          }
        }
      ]
    },
    {
      "cell_type": "markdown",
      "source": [
        "Save the best model"
      ],
      "metadata": {
        "id": "vSBLw0nf5mau"
      }
    },
    {
      "cell_type": "code",
      "source": [
        "pickle.dump(log_model, open('customer_churn.pkl', 'wb'))"
      ],
      "metadata": {
        "id": "2lhrlgDC46LY"
      },
      "execution_count": 18,
      "outputs": []
    }
  ]
}